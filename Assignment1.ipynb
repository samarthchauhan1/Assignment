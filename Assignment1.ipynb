{
 "cells": [
  {
   "cell_type": "raw",
   "id": "e859f6d9",
   "metadata": {},
   "source": [
    "1. In the below elements which of them are values or an expression? eg:- values can be\n",
    "integer or string and expressions will be mathematical operators.\n",
    "\n",
    "*- expression\n",
    "'hello'- value\n",
    "-87.8- value\n",
    "- expression\n",
    "/ expression\n",
    "+ expression\n",
    "6 value"
   ]
  },
  {
   "cell_type": "raw",
   "id": "598efa64",
   "metadata": {},
   "source": [
    "2. What is the difference between string and variable? \n",
    " \n",
    "A variable can store everything from strings to numbers. A string is the values inside the quotes assigned to a string.\n"
   ]
  },
  {
   "cell_type": "raw",
   "id": "bc21cd34",
   "metadata": {},
   "source": [
    "3. Describe three different data types.\n",
    "  \n",
    "Integer  \n",
    "It is the most common numeric data type used to store numbers without a fractional component\n",
    "\n",
    "Character  \n",
    "It is used to store a single letter, digit, punctuation mark, symbol, or blank space.\n",
    "\n",
    "String \n",
    "It is a sequence of characters and the most commonly used data type to store tex\n"
   ]
  },
  {
   "cell_type": "raw",
   "id": "b71d2c97",
   "metadata": {},
   "source": [
    "4. What is an expression made up of? What do all expressions do?\n",
    "\n",
    "  An expression is a combination of values, variables, operators, and calls to functions."
   ]
  },
  {
   "cell_type": "raw",
   "id": "2843c44e",
   "metadata": {},
   "source": [
    "5. This assignment statements, like spam = 10. What is the difference between an expression and a statement?\n",
    "\n",
    "Expressions only contain identifiers, literals and operators\n",
    "\n",
    "Statements  are everything that can make up a line of code"
   ]
  },
  {
   "cell_type": "raw",
   "id": "319b27fe",
   "metadata": {},
   "source": [
    "6. After running the following code, what does the variable bacon contain?\n",
    "bacon = 22\n",
    "bacon + 1\n",
    " \n",
    "22"
   ]
  },
  {
   "cell_type": "raw",
   "id": "29a6ecd8",
   "metadata": {},
   "source": [
    "7. What should the values of the following two terms be?\n",
    "'spam' + 'spamspam'\n",
    "'spam' * 3\n",
    "\n",
    "'spamspamspam'"
   ]
  },
  {
   "cell_type": "raw",
   "id": "c0e8423c",
   "metadata": {},
   "source": [
    "8. Why is eggs a valid variable name while 100 is invalid?\n",
    "\n",
    "beacause a valid variable name starts with letter,followed by letters,digits,or underscores"
   ]
  },
  {
   "cell_type": "raw",
   "id": "e9341a47",
   "metadata": {},
   "source": [
    "9. What three functions can be used to get the integer, floating-point number, or string version of a value?\n",
    "\n",
    "\n",
    "int() , float() , and str( )"
   ]
  },
  {
   "cell_type": "raw",
   "id": "25474720",
   "metadata": {},
   "source": [
    "10. Why does this expression cause an error? How can you fix it?\n",
    "'I have eaten ' + 99 + ' burritos.'\n",
    "\n",
    "The expression is adding string to int \n",
    "'I have eaten ' , 99 , ' burritos.'\n"
   ]
  }
 ],
 "metadata": {
  "kernelspec": {
   "display_name": "Python 3 (ipykernel)",
   "language": "python",
   "name": "python3"
  },
  "language_info": {
   "codemirror_mode": {
    "name": "ipython",
    "version": 3
   },
   "file_extension": ".py",
   "mimetype": "text/x-python",
   "name": "python",
   "nbconvert_exporter": "python",
   "pygments_lexer": "ipython3",
   "version": "3.9.7"
  }
 },
 "nbformat": 4,
 "nbformat_minor": 5
}
